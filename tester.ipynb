{
 "cells": [
  {
   "cell_type": "code",
   "execution_count": 1,
   "id": "c9b6f001-ddb8-4ff8-912f-1909d2b0760e",
   "metadata": {},
   "outputs": [
    {
     "name": "stderr",
     "output_type": "stream",
     "text": [
      "/Users/kisanetgabreselassie/Library/Python/3.9/lib/python/site-packages/urllib3/__init__.py:35: NotOpenSSLWarning: urllib3 v2 only supports OpenSSL 1.1.1+, currently the 'ssl' module is compiled with 'LibreSSL 2.8.3'. See: https://github.com/urllib3/urllib3/issues/3020\n",
      "  warnings.warn(\n"
     ]
    },
    {
     "name": "stdout",
     "output_type": "stream",
     "text": [
      "modules loaded\n"
     ]
    }
   ],
   "source": [
    "import os\n",
    "import time\n",
    "import shutil\n",
    "import pathlib\n",
    "import itertools\n",
    "from PIL import Image\n",
    "import random\n",
    "\n",
    "# import data handling tools\n",
    "import cv2\n",
    "import numpy as np\n",
    "import pandas as pd\n",
    "import seaborn as sns\n",
    "import matplotlib.pyplot as plt\n",
    "from sklearn.model_selection import train_test_split\n",
    "from sklearn.metrics import confusion_matrix, classification_report\n",
    "# import Deep learning Libraries\n",
    "import tensorflow as tf\n",
    "from tensorflow import keras\n",
    "from tensorflow.keras.models import Sequential\n",
    "from tensorflow.keras.optimizers import Adam, Adamax\n",
    "from tensorflow.keras.metrics import categorical_crossentropy\n",
    "from tensorflow.keras.preprocessing.image import ImageDataGenerator\n",
    "from tensorflow.keras.preprocessing.image import load_img, img_to_array\n",
    "from tensorflow.keras.layers import Conv2D, MaxPooling2D, Flatten, Dense, Activation, Dropout, BatchNormalization\n",
    "from tensorflow.keras import regularizers\n",
    "\n",
    "# Ignore Warnings\n",
    "import warnings\n",
    "warnings.filterwarnings(\"ignore\")\n",
    "\n",
    "print ('modules loaded')"
   ]
  },
  {
   "cell_type": "code",
   "execution_count": 4,
   "id": "927ae921-d37f-4853-b730-201ff8f4dc50",
   "metadata": {},
   "outputs": [
    {
     "name": "stdout",
     "output_type": "stream",
     "text": [
      "base folder loaded\n"
     ]
    }
   ],
   "source": [
    "base_folder = \"/Users/kisanetgabreselassie/Downloads/archive 2\"\n",
    "\n",
    "train_dir = os.path.join(base_folder, 'train')\n",
    "valid_dir = os.path.join(base_folder, 'valid')\n",
    "test_dir = os.path.join(base_folder, 'test')\n",
    "\n",
    "print(\"base folder loaded\")\n"
   ]
  },
  {
   "cell_type": "code",
   "execution_count": 8,
   "id": "3a3d46c8-5f13-45e7-9885-3c54409768db",
   "metadata": {},
   "outputs": [],
   "source": [
    "# Function to display one random sample from each class\n",
    "def display_random_sample(dataset_dir):\n",
    "    classes = os.listdir(dataset_dir)  # List of class directories\n",
    "    plt.figure(figsize=(15, 10))  # Adjust the figure size if needed\n",
    "\n",
    "    for i, class_name in enumerate(classes):\n",
    "        class_dir = os.path.join(dataset_dir, class_name)\n",
    "        image_files = os.listdir(class_dir)  # Get all images in the class folder\n",
    "        random_image = random.choice(image_files)  # Select a random image\n",
    "        img_path = os.path.join(class_dir, random_image)\n",
    "        \n",
    "        # Load the image with its original size\n",
    "        img = load_img(img_path)\n",
    "        \n",
    "        # Display the image\n",
    "        plt.subplot(1, len(classes), i + 1)  # Display images in a single row\n",
    "        plt.imshow(img)\n",
    "        plt.axis('off')  # Turn off axis for better visualization\n",
    "        plt.title(f\"{class_name} ({img.size[0]}x{img.size[1]})\")  # Show class name and image size\n",
    "\n",
    "    plt.show()\n",
    "    print(\"base folder loaded\")\n"
   ]
  },
  {
   "cell_type": "code",
   "execution_count": null,
   "id": "eb577463-b382-4d6d-893c-41567b1ff5e2",
   "metadata": {},
   "outputs": [],
   "source": [
    "# Display one random sample from train, validation, and test sets\n",
    "print(\"Training set samples:\")\n",
    "display_random_sample(train_dir)\n",
    "\n",
    "print(\"Validation set samples:\")\n",
    "display_random_sample(valid_dir)\n",
    "\n",
    "print(\"Test set samples:\")\n",
    "display_random_sample(test_dir)\n"
   ]
  },
  {
   "cell_type": "code",
   "execution_count": null,
   "id": "763781c9-d02c-484a-ae80-79553838ca3c",
   "metadata": {},
   "outputs": [],
   "source": [
    "dir = '/kaggle/input/wildfire-prediction-dataset/train'\n",
    "x_train = []\n",
    "y_train = []\n",
    "for direct in os.listdir(dir):\n",
    "    print(\"Loading dataset training {}\".format(direct))\n",
    "    for filename in os.listdir(os.path.join(dir,direct)):\n",
    "        img_path = os.path.join(dir,direct,filename)\n",
    "        img = cv2.imread(img_path)\n",
    "        img = cv2.resize(img, (32,32))\n",
    "        img = np.array(img)\n",
    "        img = img/255\n",
    "        x_train.append(img)\n",
    "        y_train.append(direct)\n"
   ]
  },
  {
   "cell_type": "code",
   "execution_count": null,
   "id": "008f3e51-89fd-48f5-b0ff-bc9a4eb0c4f1",
   "metadata": {},
   "outputs": [],
   "source": [
    "dir_val = '/kaggle/input/wildfire-prediction-dataset/valid'\n",
    "x_val=[]\n",
    "y_val=[]\n",
    "for direct in os.listdir(dir_val):\n",
    "    print(\"Loading dataset validation {}\".format(direct))\n",
    "    for filename in os.listdir(os.path.join(dir_val,direct)):\n",
    "        img_path = os.path.join(dir_val,direct,filename)\n",
    "        image = cv2.imread(img_path)\n",
    "        image = cv2.resize(image,(32,32))\n",
    "        image = np.array(image)\n",
    "        image = image/255\n",
    "        x_val.append(image)\n",
    "        y_val.append(direct)"
   ]
  },
  {
   "cell_type": "code",
   "execution_count": null,
   "id": "469629ea-9af6-4aa8-a0aa-017b6c227fea",
   "metadata": {},
   "outputs": [],
   "source": [
    "dir_test = '/kaggle/input/wildfire-prediction-dataset/test'\n",
    "x_test=[]\n",
    "y_test=[]\n",
    "for direct in os.listdir(dir_test):\n",
    "    print(\"Loading dataset test {}\".format(direct))\n",
    "    for filename in os.listdir(os.path.join(dir_test,direct)):\n",
    "        img_path = os.path.join(dir_test,direct,filename)\n",
    "        image = cv2.imread(img_path)\n",
    "        image = cv2.resize(image,(32,32))\n",
    "        image = np.array(image)\n",
    "        image = image/255\n",
    "        x_test.append(image)\n",
    "        y_test.append(direct)\n"
   ]
  },
  {
   "cell_type": "code",
   "execution_count": null,
   "id": "0b9dff0d-0b09-4b08-bfa7-3b1bea7e71c8",
   "metadata": {},
   "outputs": [],
   "source": [
    "x_train = np.array(x_train)\n",
    "x_val = np.array(x_val)\n",
    "x_test = np.array(x_test)\n"
   ]
  },
  {
   "cell_type": "code",
   "execution_count": null,
   "id": "3f229f64-7a40-4a93-984c-0d57c066fe47",
   "metadata": {},
   "outputs": [],
   "source": [
    "y_train[30000]\n"
   ]
  },
  {
   "cell_type": "code",
   "execution_count": null,
   "id": "d7ba8793-c40d-4d32-be7f-6e8847d4f506",
   "metadata": {},
   "outputs": [],
   "source": [
    "# Replace \"wildfire\" with 1 and \"nowildfire\" with 0\n",
    "y_train = [1 if label == 'wildfire' else 0 for label in y_train]\n",
    "y_val = [1 if label == 'wildfire' else 0 for label in y_val]\n",
    "y_test = [1 if label == 'wildfire' else 0 for label in y_test]\n"
   ]
  },
  {
   "cell_type": "code",
   "execution_count": null,
   "id": "cebf3590-65c8-46f1-acef-40d5fbe64e75",
   "metadata": {},
   "outputs": [],
   "source": [
    "y_train = np.array(y_train)\n",
    "y_val = np.array(y_val)\n",
    "y_test = np.array(y_test)\n"
   ]
  },
  {
   "cell_type": "code",
   "execution_count": null,
   "id": "29a0bfdf-d071-4a99-8e44-7b6aa61f920b",
   "metadata": {},
   "outputs": [],
   "source": [
    "len(x_train[4][4])\n"
   ]
  },
  {
   "cell_type": "code",
   "execution_count": null,
   "id": "f7363b2c-98e5-49e0-a40f-f325ca8d55bc",
   "metadata": {},
   "outputs": [],
   "source": [
    "# Now check the shape of your datasets\n",
    "print(\"x_train shape:\", x_train.shape)  # Should be (num_samples, height, width, num_channels)\n",
    "print(\"x_valid shape:\", x_val.shape)\n",
    "print(\"x_test shape:\", x_test.shape)\n",
    "\n",
    "print(\"y_train shape:\", y_train.shape)\n",
    "print(\"y_valid shape:\", y_val.shape)\n",
    "print(\"y_test shape:\", y_test.shape)\n"
   ]
  },
  {
   "cell_type": "code",
   "execution_count": null,
   "id": "2d35ef39-db78-46ff-9a45-275647d31b80",
   "metadata": {},
   "outputs": [],
   "source": [
    "# Step 1: Build the CNN model\n",
    "model = Sequential([\n",
    "    Conv2D(32, (3, 3), activation='relu', input_shape=(32, 32, 3)),\n",
    "    Conv2D(64, (3, 3), activation='relu', padding='same'),\n",
    "    Conv2D(64, (3, 3), activation='relu', padding='same'),\n",
    "    BatchNormalization(),\n",
    "    MaxPooling2D((2, 2)),\n",
    "    \n",
    "    Conv2D(128, (3, 3), activation='relu', padding='same'),\n",
    "    Conv2D(128, (3, 3), activation='relu', padding='same'),\n",
    "    BatchNormalization(),\n",
    "    MaxPooling2D((2, 2)),\n",
    "    \n",
    "    Conv2D(256, (3, 3), activation='relu', padding='same'),\n",
    "    Conv2D(256, (3, 3), activation='relu', padding='same'),\n",
    "    BatchNormalization(),\n",
    "    MaxPooling2D((2, 2)),\n",
    "\n",
    "\n",
    "\n",
    "\n",
    "\n",
    "\n",
    "\n",
    "\n",
    "    Conv2D(128, (3, 3), activation='relu', padding='same'),\n",
    "    Conv2D(128, (3, 3), activation='relu', padding='same'),\n",
    "    \n",
    "    Flatten(),\n",
    "    \n",
    "    Dense(128, activation='relu'),\n",
    "    Dense(128, activation='relu'),\n",
    "    BatchNormalization(),\n",
    "    Dropout(0.5),\n",
    "    \n",
    "    Dense(64, activation='relu'),\n",
    "    Dense(32, activation='relu'),\n",
    "    BatchNormalization(),\n",
    "    \n",
    "    Dense(1, activation='sigmoid')  # Output layer with number of classes\n",
    "])\n",
    "\n",
    "# Step 2: Compile the model\n",
    "model.compile(optimizer='adam',\n",
    "              loss='binary_crossentropy',  # Loss function for multi-class classification\n",
    "              metrics=['accuracy'])\n",
    "\n",
    "model.summary()\n",
    "\n",
    "\n",
    "\n",
    "    \n",
    "    \n"
   ]
  },
  {
   "cell_type": "code",
   "execution_count": null,
   "id": "3b7a5dbb-4f7a-47f1-b99e-70d48dc44f49",
   "metadata": {},
   "outputs": [],
   "source": [
    "from tensorflow.keras.callbacks import EarlyStopping\n",
    "\n",
    "# Step 3: Train the model\n",
    "history = model.fit(\n",
    "    x_train, y_train,\n",
    "    validation_data=(x_val, y_val),\n",
    "    epochs=20,\n",
    "    batch_size=64,\n",
    "    callbacks=[EarlyStopping(monitor='val_loss', patience=4)]\n",
    ")\n"
   ]
  },
  {
   "cell_type": "code",
   "execution_count": null,
   "id": "8700b26c-240a-4ca9-b23f-364ba259f7ba",
   "metadata": {},
   "outputs": [],
   "source": [
    "# Evaluate the model on test data\n",
    "test_loss, test_accuracy = model.evaluate(x_test, y_test)\n",
    "\n",
    "print(f'Test Accuracy: {test_accuracy:.4f}')\n"
   ]
  },
  {
   "cell_type": "code",
   "execution_count": null,
   "id": "733d06da-da2b-4651-8441-f3dfe561a249",
   "metadata": {},
   "outputs": [],
   "source": []
  },
  {
   "cell_type": "code",
   "execution_count": null,
   "id": "16a2b561-5104-4681-b984-94e99e8fb54d",
   "metadata": {},
   "outputs": [],
   "source": []
  },
  {
   "cell_type": "code",
   "execution_count": null,
   "id": "9f8c51d3-fd45-4bfc-b402-d0ba0f41c796",
   "metadata": {},
   "outputs": [],
   "source": []
  }
 ],
 "metadata": {
  "kernelspec": {
   "display_name": "Python 3 (ipykernel)",
   "language": "python",
   "name": "python3"
  },
  "language_info": {
   "codemirror_mode": {
    "name": "ipython",
    "version": 3
   },
   "file_extension": ".py",
   "mimetype": "text/x-python",
   "name": "python",
   "nbconvert_exporter": "python",
   "pygments_lexer": "ipython3",
   "version": "3.9.6"
  }
 },
 "nbformat": 4,
 "nbformat_minor": 5
}
